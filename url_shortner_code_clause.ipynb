{
 "cells": [
  {
   "cell_type": "code",
   "execution_count": 9,
   "id": "0d22a74d",
   "metadata": {},
   "outputs": [
    {
     "name": "stdout",
     "output_type": "stream",
     "text": [
      "{'url': {'status': 7, 'fullLink': 'https://olympus.mygreatlearning.com/courses/12383/modules/items/536389', 'date': '2023-04-07', 'shortLink': 'https://cutt.ly/greatlearning', 'title': 'Greatlearning login'}}\n"
     ]
    }
   ],
   "source": [
    "import requests\n",
    "def shorten_link(full_link,link_name):\n",
    "    payload={'key':api_key,'short':full_link,'name':link_name}\n",
    "    request=requests.get(base_key,params=payload)\n",
    "    data=request.json()\n",
    "    print(data)\n",
    "shorten_link(\"https://olympus.mygreatlearning.com/courses/12383/modules/items/536389\",'greatlearning')\n",
    "api_key=\"492763b268e374b1a78eac3cd97945cf005f4\"\n",
    "base_key=\"https://cutt.ly/api/api.php\""
   ]
  },
  {
   "cell_type": "code",
   "execution_count": 3,
   "id": "200125d8",
   "metadata": {},
   "outputs": [],
   "source": []
  },
  {
   "cell_type": "code",
   "execution_count": null,
   "id": "7d685a49",
   "metadata": {},
   "outputs": [],
   "source": []
  }
 ],
 "metadata": {
  "kernelspec": {
   "display_name": "Python 3 (ipykernel)",
   "language": "python",
   "name": "python3"
  },
  "language_info": {
   "codemirror_mode": {
    "name": "ipython",
    "version": 3
   },
   "file_extension": ".py",
   "mimetype": "text/x-python",
   "name": "python",
   "nbconvert_exporter": "python",
   "pygments_lexer": "ipython3",
   "version": "3.9.12"
  }
 },
 "nbformat": 4,
 "nbformat_minor": 5
}
